{
  "nbformat": 4,
  "nbformat_minor": 0,
  "metadata": {
    "colab": {
      "provenance": [],
      "authorship_tag": "ABX9TyPgX+C6xOzsJ81E2rnv7GHu",
      "include_colab_link": true
    },
    "kernelspec": {
      "name": "python3",
      "display_name": "Python 3"
    },
    "language_info": {
      "name": "python"
    }
  },
  "cells": [
    {
      "cell_type": "markdown",
      "metadata": {
        "id": "view-in-github",
        "colab_type": "text"
      },
      "source": [
        "<a href=\"https://colab.research.google.com/github/RebecaJmz/DIPLOMADO_CIENCIA_DE_DATOS/blob/main/001_ACTIVIDADES/003_PYTHON/006_N_Introducci%C3%B3n_a_Python.ipynb\" target=\"_parent\"><img src=\"https://colab.research.google.com/assets/colab-badge.svg\" alt=\"Open In Colab\"/></a>"
      ]
    },
    {
      "cell_type": "markdown",
      "source": [
        "CLASE 06 - MARTES 25 DE ABRIL DE 2023"
      ],
      "metadata": {
        "id": "LxcaGNYTIyHT"
      }
    },
    {
      "cell_type": "markdown",
      "source": [
        "# INTRODUCCIÓN A PYTHON"
      ],
      "metadata": {
        "id": "6wRg3CGyJpHL"
      }
    },
    {
      "cell_type": "markdown",
      "source": [
        "**Mi primer programa**\n"
      ],
      "metadata": {
        "id": "JYBMR_qp6hgL"
      }
    },
    {
      "cell_type": "code",
      "source": [
        "print(\"HOLA MUNDO\");                                                              # Imprimiendo mensaje en pantalla"
      ],
      "metadata": {
        "colab": {
          "base_uri": "https://localhost:8080/"
        },
        "id": "6LGBXDqw61wY",
        "outputId": "dc8e8901-d943-4099-905a-fe49ba393343"
      },
      "execution_count": null,
      "outputs": [
        {
          "output_type": "stream",
          "name": "stdout",
          "text": [
            "HOLA MUNDO\n"
          ]
        }
      ]
    },
    {
      "cell_type": "markdown",
      "source": [
        "# Tipo de variables"
      ],
      "metadata": {
        "id": "-YpyXOA9JqNH"
      }
    },
    {
      "cell_type": "code",
      "source": [
        "int(4.5)                                                                         # Variable de tipo entero"
      ],
      "metadata": {
        "colab": {
          "base_uri": "https://localhost:8080/"
        },
        "id": "fLAMLxkB8Efr",
        "outputId": "4e0085d6-dafd-43a1-f59f-810fd4162314"
      },
      "execution_count": null,
      "outputs": [
        {
          "output_type": "execute_result",
          "data": {
            "text/plain": [
              "4"
            ]
          },
          "metadata": {},
          "execution_count": 3
        }
      ]
    },
    {
      "cell_type": "code",
      "source": [
        "bool(5)                                                                          # Variable de tipo booleanas"
      ],
      "metadata": {
        "colab": {
          "base_uri": "https://localhost:8080/"
        },
        "id": "TLd2Uf2Q_YE1",
        "outputId": "f35cd697-e8e9-496e-ebaf-f4f622c636b3"
      },
      "execution_count": null,
      "outputs": [
        {
          "output_type": "execute_result",
          "data": {
            "text/plain": [
              "True"
            ]
          },
          "metadata": {},
          "execution_count": 4
        }
      ]
    },
    {
      "cell_type": "code",
      "source": [
        "float(5.5)                                                                       # Variable tipo reales"
      ],
      "metadata": {
        "colab": {
          "base_uri": "https://localhost:8080/"
        },
        "id": "nc-GAQKAK2zQ",
        "outputId": "3938254a-0bbb-4118-d025-66913cddfdef"
      },
      "execution_count": null,
      "outputs": [
        {
          "output_type": "execute_result",
          "data": {
            "text/plain": [
              "5.5"
            ]
          },
          "metadata": {},
          "execution_count": 5
        }
      ]
    },
    {
      "cell_type": "markdown",
      "source": [
        "# Operaciones"
      ],
      "metadata": {
        "id": "WZ_9UX9UJqoz"
      }
    },
    {
      "cell_type": "code",
      "source": [
        "40+25+78+59                                                                      # Suma"
      ],
      "metadata": {
        "colab": {
          "base_uri": "https://localhost:8080/"
        },
        "id": "C8U35KYIMCe4",
        "outputId": "b5d234b5-7968-48ce-a4d4-cc84b7312ef4"
      },
      "execution_count": null,
      "outputs": [
        {
          "output_type": "execute_result",
          "data": {
            "text/plain": [
              "202"
            ]
          },
          "metadata": {},
          "execution_count": 6
        }
      ]
    },
    {
      "cell_type": "code",
      "source": [
        "50-98                                                                            # Resta"
      ],
      "metadata": {
        "colab": {
          "base_uri": "https://localhost:8080/"
        },
        "id": "bJJJ14ZUMO0z",
        "outputId": "9554e0e0-d8db-4b84-d281-5c0b93dff077"
      },
      "execution_count": null,
      "outputs": [
        {
          "output_type": "execute_result",
          "data": {
            "text/plain": [
              "-48"
            ]
          },
          "metadata": {},
          "execution_count": 7
        }
      ]
    },
    {
      "cell_type": "code",
      "source": [
        "15*6                                                                             # Multiplicación"
      ],
      "metadata": {
        "colab": {
          "base_uri": "https://localhost:8080/"
        },
        "id": "JPPMajM-MRk9",
        "outputId": "b55fbac0-9060-4539-b432-92b1ba65833e"
      },
      "execution_count": null,
      "outputs": [
        {
          "output_type": "execute_result",
          "data": {
            "text/plain": [
              "90"
            ]
          },
          "metadata": {},
          "execution_count": 8
        }
      ]
    },
    {
      "cell_type": "code",
      "source": [
        "35/7                                                                             # División"
      ],
      "metadata": {
        "colab": {
          "base_uri": "https://localhost:8080/"
        },
        "id": "S3FycfT6MUne",
        "outputId": "d2f2bde0-e8f7-4448-e4eb-d42d8aedd2de"
      },
      "execution_count": null,
      "outputs": [
        {
          "output_type": "execute_result",
          "data": {
            "text/plain": [
              "5.0"
            ]
          },
          "metadata": {},
          "execution_count": 9
        }
      ]
    },
    {
      "cell_type": "code",
      "source": [
        "37//5                                                                            # División entera"
      ],
      "metadata": {
        "colab": {
          "base_uri": "https://localhost:8080/"
        },
        "id": "uEfVxhw4MkLv",
        "outputId": "9d42b92f-7da2-4f10-9c61-707cc23949a6"
      },
      "execution_count": null,
      "outputs": [
        {
          "output_type": "execute_result",
          "data": {
            "text/plain": [
              "7"
            ]
          },
          "metadata": {},
          "execution_count": 10
        }
      ]
    },
    {
      "cell_type": "code",
      "source": [
        "37/5"
      ],
      "metadata": {
        "colab": {
          "base_uri": "https://localhost:8080/"
        },
        "id": "-w3BSYNuM64k",
        "outputId": "8d4a306f-3160-4d9b-85ed-b97acffff984"
      },
      "execution_count": null,
      "outputs": [
        {
          "output_type": "execute_result",
          "data": {
            "text/plain": [
              "7.4"
            ]
          },
          "metadata": {},
          "execution_count": 11
        }
      ]
    },
    {
      "cell_type": "code",
      "source": [
        "30+2*60                                                                          # Jerarquía de operaciones"
      ],
      "metadata": {
        "colab": {
          "base_uri": "https://localhost:8080/"
        },
        "id": "oTW5_IXCNX-n",
        "outputId": "c319a0df-e41b-429f-d051-8342503cd0f8"
      },
      "execution_count": null,
      "outputs": [
        {
          "output_type": "execute_result",
          "data": {
            "text/plain": [
              "150"
            ]
          },
          "metadata": {},
          "execution_count": 12
        }
      ]
    },
    {
      "cell_type": "code",
      "source": [
        "x =100                                                                           # Bloques de código\n",
        "y = x/2\n",
        "y"
      ],
      "metadata": {
        "colab": {
          "base_uri": "https://localhost:8080/"
        },
        "id": "XNG38gIxNiUu",
        "outputId": "5695d9b8-c1f5-43ea-db08-fad63d3d1e2a"
      },
      "execution_count": null,
      "outputs": [
        {
          "output_type": "execute_result",
          "data": {
            "text/plain": [
              "50.0"
            ]
          },
          "metadata": {},
          "execution_count": 13
        }
      ]
    },
    {
      "cell_type": "markdown",
      "source": [
        "# Operaciones con String"
      ],
      "metadata": {
        "id": "QTV4iy8QJrlc"
      }
    },
    {
      "cell_type": "code",
      "source": [
        "name = 'Michael Jackson'                                                         # Signo de asignación \"=\""
      ],
      "metadata": {
        "id": "zH6WAOkgOCHY"
      },
      "execution_count": null,
      "outputs": []
    },
    {
      "cell_type": "markdown",
      "source": [
        "Seleccionar diversos elementos de la cadena"
      ],
      "metadata": {
        "id": "EdiM37eoOtd_"
      }
    },
    {
      "cell_type": "code",
      "source": [
        "name[0]"
      ],
      "metadata": {
        "colab": {
          "base_uri": "https://localhost:8080/",
          "height": 35
        },
        "id": "-LmDrUY4OsMC",
        "outputId": "ec356e35-c00b-40aa-f4ba-83c164c40c8c"
      },
      "execution_count": null,
      "outputs": [
        {
          "output_type": "execute_result",
          "data": {
            "text/plain": [
              "'M'"
            ],
            "application/vnd.google.colaboratory.intrinsic+json": {
              "type": "string"
            }
          },
          "metadata": {},
          "execution_count": 15
        }
      ]
    },
    {
      "cell_type": "code",
      "source": [
        "name[-1]"
      ],
      "metadata": {
        "colab": {
          "base_uri": "https://localhost:8080/",
          "height": 35
        },
        "id": "GhEiV7teOOrR",
        "outputId": "758920dd-104f-4846-e0f9-a8050337fb02"
      },
      "execution_count": null,
      "outputs": [
        {
          "output_type": "execute_result",
          "data": {
            "text/plain": [
              "'n'"
            ],
            "application/vnd.google.colaboratory.intrinsic+json": {
              "type": "string"
            }
          },
          "metadata": {},
          "execution_count": 16
        }
      ]
    },
    {
      "cell_type": "code",
      "source": [
        "name[0:4]"
      ],
      "metadata": {
        "colab": {
          "base_uri": "https://localhost:8080/",
          "height": 35
        },
        "id": "49GBHmRvO7XF",
        "outputId": "21fcf013-e2f7-46d3-85ab-d28d406e1009"
      },
      "execution_count": null,
      "outputs": [
        {
          "output_type": "execute_result",
          "data": {
            "text/plain": [
              "'Mich'"
            ],
            "application/vnd.google.colaboratory.intrinsic+json": {
              "type": "string"
            }
          },
          "metadata": {},
          "execution_count": 17
        }
      ]
    },
    {
      "cell_type": "code",
      "source": [
        "name[::2]                                                                        # Imprime los elementos situados en los lugares pares"
      ],
      "metadata": {
        "colab": {
          "base_uri": "https://localhost:8080/",
          "height": 35
        },
        "id": "wAaQfp_tPD5b",
        "outputId": "02b70da7-f22d-4205-c569-ce13ad09bf38"
      },
      "execution_count": null,
      "outputs": [
        {
          "output_type": "execute_result",
          "data": {
            "text/plain": [
              "'McalJcsn'"
            ],
            "application/vnd.google.colaboratory.intrinsic+json": {
              "type": "string"
            }
          },
          "metadata": {},
          "execution_count": 18
        }
      ]
    },
    {
      "cell_type": "code",
      "source": [
        "statement = \" is the best\"                                                       # Agregar texto al final\n",
        "name + statement"
      ],
      "metadata": {
        "colab": {
          "base_uri": "https://localhost:8080/",
          "height": 35
        },
        "id": "Ca_8KGSLPQV2",
        "outputId": "f35ba983-9518-4366-8982-a4b46d11cd04"
      },
      "execution_count": null,
      "outputs": [
        {
          "output_type": "execute_result",
          "data": {
            "text/plain": [
              "'Michael Jackson is the best'"
            ],
            "application/vnd.google.colaboratory.intrinsic+json": {
              "type": "string"
            }
          },
          "metadata": {},
          "execution_count": 19
        }
      ]
    },
    {
      "cell_type": "code",
      "source": [
        "3*name"
      ],
      "metadata": {
        "colab": {
          "base_uri": "https://localhost:8080/",
          "height": 35
        },
        "id": "52bqs_IsPyE_",
        "outputId": "512b80ea-79da-447d-d805-76efb250b99c"
      },
      "execution_count": null,
      "outputs": [
        {
          "output_type": "execute_result",
          "data": {
            "text/plain": [
              "'Michael JacksonMichael JacksonMichael Jackson'"
            ],
            "application/vnd.google.colaboratory.intrinsic+json": {
              "type": "string"
            }
          },
          "metadata": {},
          "execution_count": 20
        }
      ]
    },
    {
      "cell_type": "code",
      "source": [
        "name.upper()                                                                     # Convertir a mayúsculas"
      ],
      "metadata": {
        "colab": {
          "base_uri": "https://localhost:8080/",
          "height": 35
        },
        "id": "XpPtQLKXP27U",
        "outputId": "22fa5be5-82a1-4638-8646-ee32717e8736"
      },
      "execution_count": null,
      "outputs": [
        {
          "output_type": "execute_result",
          "data": {
            "text/plain": [
              "'MICHAEL JACKSON'"
            ],
            "application/vnd.google.colaboratory.intrinsic+json": {
              "type": "string"
            }
          },
          "metadata": {},
          "execution_count": 21
        }
      ]
    },
    {
      "cell_type": "code",
      "source": [
        "name.replace(\"Michael\", \"Janet\")                                                 # Remplazar elementos"
      ],
      "metadata": {
        "colab": {
          "base_uri": "https://localhost:8080/",
          "height": 35
        },
        "id": "Aiea5jvJP9xa",
        "outputId": "7d4058ca-a72c-455d-e159-86955a5265e1"
      },
      "execution_count": null,
      "outputs": [
        {
          "output_type": "execute_result",
          "data": {
            "text/plain": [
              "'Janet Jackson'"
            ],
            "application/vnd.google.colaboratory.intrinsic+json": {
              "type": "string"
            }
          },
          "metadata": {},
          "execution_count": 22
        }
      ]
    },
    {
      "cell_type": "code",
      "source": [
        "name.find(\"Jack\")                                                                # Encontrar elementos"
      ],
      "metadata": {
        "colab": {
          "base_uri": "https://localhost:8080/"
        },
        "id": "bwQyNM3XQMzJ",
        "outputId": "3c7b8464-8a63-42d7-983b-74fd589adf3b"
      },
      "execution_count": null,
      "outputs": [
        {
          "output_type": "execute_result",
          "data": {
            "text/plain": [
              "8"
            ]
          },
          "metadata": {},
          "execution_count": 24
        }
      ]
    },
    {
      "cell_type": "markdown",
      "source": [
        "# Tuplas"
      ],
      "metadata": {
        "id": "lWvKfDSqJrId"
      }
    },
    {
      "cell_type": "code",
      "source": [
        "Ratings = (10,9,6,5,10,8,9,6,2)\n",
        "Ratings"
      ],
      "metadata": {
        "colab": {
          "base_uri": "https://localhost:8080/"
        },
        "id": "aNoN6ZN5Qi7Z",
        "outputId": "828968fe-b168-4652-9bba-acb41b8cf61c"
      },
      "execution_count": null,
      "outputs": [
        {
          "output_type": "execute_result",
          "data": {
            "text/plain": [
              "(10, 9, 6, 5, 10, 8, 9, 6, 2)"
            ]
          },
          "metadata": {},
          "execution_count": 25
        }
      ]
    },
    {
      "cell_type": "code",
      "source": [
        "tuple1 = (\"disco\", 10, 1.2)\n",
        "tuple1"
      ],
      "metadata": {
        "colab": {
          "base_uri": "https://localhost:8080/"
        },
        "id": "kD-6AfwdRVmB",
        "outputId": "6c4a08bb-95d8-49b6-9d7a-a2a35224704d"
      },
      "execution_count": null,
      "outputs": [
        {
          "output_type": "execute_result",
          "data": {
            "text/plain": [
              "('disco', 10, 1.2)"
            ]
          },
          "metadata": {},
          "execution_count": 26
        }
      ]
    },
    {
      "cell_type": "code",
      "source": [
        "type(Ratings)                                                                    # Muestra el tipo de objeto mediante \"type\""
      ],
      "metadata": {
        "colab": {
          "base_uri": "https://localhost:8080/"
        },
        "id": "MVSTqUdfRg7w",
        "outputId": "9827112b-5845-4c5b-de26-e54fb6621cab"
      },
      "execution_count": null,
      "outputs": [
        {
          "output_type": "execute_result",
          "data": {
            "text/plain": [
              "tuple"
            ]
          },
          "metadata": {},
          "execution_count": 27
        }
      ]
    },
    {
      "cell_type": "code",
      "source": [
        "tuple2 = tuple1 + (\"rock\",10)                                                    # Concatenar tuplas\n",
        "tuple2"
      ],
      "metadata": {
        "colab": {
          "base_uri": "https://localhost:8080/"
        },
        "id": "8uZr5JtqR7EF",
        "outputId": "b9c3ede1-2a58-4b56-f92b-e85032d9ef43"
      },
      "execution_count": null,
      "outputs": [
        {
          "output_type": "execute_result",
          "data": {
            "text/plain": [
              "('disco', 10, 1.2, 'rock', 10)"
            ]
          },
          "metadata": {},
          "execution_count": 28
        }
      ]
    },
    {
      "cell_type": "code",
      "source": [
        "tuple2[0:2]                                                                      # Acceder a elementos"
      ],
      "metadata": {
        "colab": {
          "base_uri": "https://localhost:8080/"
        },
        "id": "BnX6PSxVSOA5",
        "outputId": "da98a7df-26b1-4fc5-c3f0-538561bcbd61"
      },
      "execution_count": null,
      "outputs": [
        {
          "output_type": "execute_result",
          "data": {
            "text/plain": [
              "('disco', 10)"
            ]
          },
          "metadata": {},
          "execution_count": 29
        }
      ]
    },
    {
      "cell_type": "code",
      "source": [
        "len(tuple2)                                                                      # Longitud de la tupla con \"len\""
      ],
      "metadata": {
        "colab": {
          "base_uri": "https://localhost:8080/"
        },
        "id": "9n-RJNuISaUE",
        "outputId": "a859a3d8-644a-4868-ba3a-521dca98f6e4"
      },
      "execution_count": null,
      "outputs": [
        {
          "output_type": "execute_result",
          "data": {
            "text/plain": [
              "5"
            ]
          },
          "metadata": {},
          "execution_count": 31
        }
      ]
    },
    {
      "cell_type": "code",
      "source": [
        "RatingSorted = sorted(Ratings)                                                   # Ordenar elementos mediante \"sorted\"\n",
        "RatingSorted\n"
      ],
      "metadata": {
        "colab": {
          "base_uri": "https://localhost:8080/"
        },
        "id": "XVDFXbghSldi",
        "outputId": "380b9d28-a26c-46b7-9962-f3b553950c1e"
      },
      "execution_count": null,
      "outputs": [
        {
          "output_type": "execute_result",
          "data": {
            "text/plain": [
              "[2, 5, 6, 6, 8, 9, 9, 10, 10]"
            ]
          },
          "metadata": {},
          "execution_count": 35
        }
      ]
    },
    {
      "cell_type": "code",
      "source": [
        "N_tupla = ( 1, 2, (\"pop\",\"rock\"), (3,4), (\"disco\",(1,2)))                        # Tuplas anidadas"
      ],
      "metadata": {
        "id": "l9Io1wMLTQRY"
      },
      "execution_count": null,
      "outputs": []
    },
    {
      "cell_type": "code",
      "source": [
        "N_tupla[2][1]"
      ],
      "metadata": {
        "colab": {
          "base_uri": "https://localhost:8080/",
          "height": 35
        },
        "id": "5mwEXHTpTwb_",
        "outputId": "8990fe0d-67bc-4730-b211-4a4a42581a7c"
      },
      "execution_count": null,
      "outputs": [
        {
          "output_type": "execute_result",
          "data": {
            "text/plain": [
              "'rock'"
            ],
            "application/vnd.google.colaboratory.intrinsic+json": {
              "type": "string"
            }
          },
          "metadata": {},
          "execution_count": 37
        }
      ]
    },
    {
      "cell_type": "code",
      "source": [
        "N_tupla[3]"
      ],
      "metadata": {
        "colab": {
          "base_uri": "https://localhost:8080/"
        },
        "id": "rrDe5wjfUF70",
        "outputId": "f08fb070-8082-499b-b1c4-eb364643b6e3"
      },
      "execution_count": null,
      "outputs": [
        {
          "output_type": "execute_result",
          "data": {
            "text/plain": [
              "(3, 4)"
            ]
          },
          "metadata": {},
          "execution_count": 38
        }
      ]
    },
    {
      "cell_type": "code",
      "source": [
        "N_tupla[4][1][0]"
      ],
      "metadata": {
        "colab": {
          "base_uri": "https://localhost:8080/"
        },
        "id": "sb26J73qUWUp",
        "outputId": "d2a83d32-1774-4a8b-df16-9619cc74bbde"
      },
      "execution_count": null,
      "outputs": [
        {
          "output_type": "execute_result",
          "data": {
            "text/plain": [
              "1"
            ]
          },
          "metadata": {},
          "execution_count": 39
        }
      ]
    },
    {
      "cell_type": "markdown",
      "source": [
        "# Listas"
      ],
      "metadata": {
        "id": "PzEe7zjjJr8i"
      }
    },
    {
      "cell_type": "code",
      "source": [
        "L = [\"Michael Jackson\", 1.5, 123]\n",
        "L"
      ],
      "metadata": {
        "colab": {
          "base_uri": "https://localhost:8080/"
        },
        "id": "Hyimyva2Uxtx",
        "outputId": "3ad4919d-8498-4264-97ac-4e8ee5da5517"
      },
      "execution_count": null,
      "outputs": [
        {
          "output_type": "execute_result",
          "data": {
            "text/plain": [
              "['Michael Jackson', 1.5, 123]"
            ]
          },
          "metadata": {},
          "execution_count": 40
        }
      ]
    },
    {
      "cell_type": "code",
      "source": [
        "L[0]"
      ],
      "metadata": {
        "colab": {
          "base_uri": "https://localhost:8080/",
          "height": 35
        },
        "id": "bOEJ-zxmj9ms",
        "outputId": "0025fdd5-aa05-46de-baed-6b317ee59731"
      },
      "execution_count": null,
      "outputs": [
        {
          "output_type": "execute_result",
          "data": {
            "text/plain": [
              "'Michael Jackson'"
            ],
            "application/vnd.google.colaboratory.intrinsic+json": {
              "type": "string"
            }
          },
          "metadata": {},
          "execution_count": 41
        }
      ]
    },
    {
      "cell_type": "code",
      "source": [
        "L1 = L + [\"pop\",10]\n",
        "L1"
      ],
      "metadata": {
        "colab": {
          "base_uri": "https://localhost:8080/"
        },
        "id": "O7Y8B5ybkASL",
        "outputId": "865ef674-e332-4d3d-c77a-d431107e4bdd"
      },
      "execution_count": null,
      "outputs": [
        {
          "output_type": "execute_result",
          "data": {
            "text/plain": [
              "['Michael Jackson', 1.5, 123, 'pop', 10]"
            ]
          },
          "metadata": {},
          "execution_count": 42
        }
      ]
    },
    {
      "cell_type": "code",
      "source": [
        "L1[:3]                                                                           # Mostrar los primeros 3 elementos"
      ],
      "metadata": {
        "colab": {
          "base_uri": "https://localhost:8080/"
        },
        "id": "aHXDQRmukMVN",
        "outputId": "f8c3afd7-7fb5-43d8-d3ea-3652a5c2312b"
      },
      "execution_count": null,
      "outputs": [
        {
          "output_type": "execute_result",
          "data": {
            "text/plain": [
              "['Michael Jackson', 1.5, 123]"
            ]
          },
          "metadata": {},
          "execution_count": 44
        }
      ]
    },
    {
      "cell_type": "code",
      "source": [
        "L.extend([\"pop\",3])                                                              # Agregar más elementos con la función \"extend\"\n",
        "L"
      ],
      "metadata": {
        "colab": {
          "base_uri": "https://localhost:8080/"
        },
        "id": "YqlgVsXjkcsX",
        "outputId": "7ed670cb-e900-4c64-b89f-2021abdb5130"
      },
      "execution_count": null,
      "outputs": [
        {
          "output_type": "execute_result",
          "data": {
            "text/plain": [
              "['Michael Jackson', 1.5, 123, 'pop', 3]"
            ]
          },
          "metadata": {},
          "execution_count": 46
        }
      ]
    },
    {
      "cell_type": "code",
      "source": [
        "del(L[0])                                                                        # Eliminar elementos de la lista\n",
        "L"
      ],
      "metadata": {
        "colab": {
          "base_uri": "https://localhost:8080/"
        },
        "id": "VP6YyiJbkutF",
        "outputId": "d3ee595c-aff4-48cd-b773-c3ffc8fb5e73"
      },
      "execution_count": null,
      "outputs": [
        {
          "output_type": "execute_result",
          "data": {
            "text/plain": [
              "[1.5, 123, 'pop', 3]"
            ]
          },
          "metadata": {},
          "execution_count": 47
        }
      ]
    },
    {
      "cell_type": "code",
      "source": [
        "\"Michael Jackson\".split()                                                        # Separar elementos de un texto usando \"split\""
      ],
      "metadata": {
        "colab": {
          "base_uri": "https://localhost:8080/"
        },
        "id": "SF-Y3ExwlIB6",
        "outputId": "5404eafc-60f6-42f8-9e4e-40333ec8c26f"
      },
      "execution_count": null,
      "outputs": [
        {
          "output_type": "execute_result",
          "data": {
            "text/plain": [
              "['Michael', 'Jackson']"
            ]
          },
          "metadata": {},
          "execution_count": 48
        }
      ]
    },
    {
      "cell_type": "code",
      "source": [
        "\"a,b,c,d,f,g\".split(\",\")                                                         # Especificar el separador utilizado"
      ],
      "metadata": {
        "colab": {
          "base_uri": "https://localhost:8080/"
        },
        "id": "n4X48Opnk7Qu",
        "outputId": "93fee049-cd22-4239-ff50-33ec189be197"
      },
      "execution_count": null,
      "outputs": [
        {
          "output_type": "execute_result",
          "data": {
            "text/plain": [
              "['a', 'b', 'c', 'd', 'f', 'g']"
            ]
          },
          "metadata": {},
          "execution_count": 49
        }
      ]
    },
    {
      "cell_type": "markdown",
      "source": [
        "# Conjuntos"
      ],
      "metadata": {
        "id": "aPU-5HmKUrYK"
      }
    },
    {
      "cell_type": "code",
      "source": [
        "set1 = {\"pop\", \"rock\", \"soul\", \"hard rock\", \"rock\", \"disco\"}\n",
        "set1"
      ],
      "metadata": {
        "colab": {
          "base_uri": "https://localhost:8080/"
        },
        "id": "Tl0BPQN6lfr4",
        "outputId": "e6fe3001-88f2-490e-a386-b73d41c17e4a"
      },
      "execution_count": null,
      "outputs": [
        {
          "output_type": "execute_result",
          "data": {
            "text/plain": [
              "{'disco', 'hard rock', 'pop', 'rock', 'soul'}"
            ]
          },
          "metadata": {},
          "execution_count": 50
        }
      ]
    },
    {
      "cell_type": "code",
      "source": [
        "album_list = [\"Michael Jackson\", \"Thriller\", \"Thriller\", 1982]                   # Se convierte lista en conjunto mediante \"set\"\n",
        "album_set  = set(album_list)\n",
        "album_set"
      ],
      "metadata": {
        "colab": {
          "base_uri": "https://localhost:8080/"
        },
        "id": "xt8Lke03mIH3",
        "outputId": "0950443a-e46e-4864-83dd-26ab0ce98615"
      },
      "execution_count": null,
      "outputs": [
        {
          "output_type": "execute_result",
          "data": {
            "text/plain": [
              "{1982, 'Michael Jackson', 'Thriller'}"
            ]
          },
          "metadata": {},
          "execution_count": 51
        }
      ]
    },
    {
      "cell_type": "code",
      "source": [
        "set2 = {\"Thriller\", \"Black in Black\", \"AC/DC\"}                                   # Agregar elementos mediante \"add\"\n",
        "set2.add(\"NSYNC\")\n",
        "set2"
      ],
      "metadata": {
        "colab": {
          "base_uri": "https://localhost:8080/"
        },
        "id": "Ju0J4wdkm2xT",
        "outputId": "415731bc-5246-4d7f-a254-c53806f272b3"
      },
      "execution_count": null,
      "outputs": [
        {
          "output_type": "execute_result",
          "data": {
            "text/plain": [
              "{'AC/DC', 'Black in Black', 'NSYNC', 'Thriller'}"
            ]
          },
          "metadata": {},
          "execution_count": 55
        }
      ]
    },
    {
      "cell_type": "code",
      "source": [
        "\"AC/DC\" in set2                                                                  # Verificar si elemento se encuentra en el conjunto"
      ],
      "metadata": {
        "colab": {
          "base_uri": "https://localhost:8080/"
        },
        "id": "FBMVaJIboPqW",
        "outputId": "aa3a22a5-179f-46f4-aaa6-208c34b0402e"
      },
      "execution_count": null,
      "outputs": [
        {
          "output_type": "execute_result",
          "data": {
            "text/plain": [
              "True"
            ]
          },
          "metadata": {},
          "execution_count": 56
        }
      ]
    },
    {
      "cell_type": "code",
      "source": [
        "\"The who\" in set2"
      ],
      "metadata": {
        "colab": {
          "base_uri": "https://localhost:8080/"
        },
        "id": "zsWAE8t0omqI",
        "outputId": "dbebbda6-9da4-4f40-912b-2eaed549576d"
      },
      "execution_count": null,
      "outputs": [
        {
          "output_type": "execute_result",
          "data": {
            "text/plain": [
              "False"
            ]
          },
          "metadata": {},
          "execution_count": 57
        }
      ]
    },
    {
      "cell_type": "code",
      "source": [
        "set3 = {\"a\",\"b\",\"c\",\"d\"}                                                         # Definición de conjuntos\n",
        "set4 = {\"b\", \"d\", \"e\"}"
      ],
      "metadata": {
        "id": "1flGbi-EoqWu"
      },
      "execution_count": null,
      "outputs": []
    },
    {
      "cell_type": "code",
      "source": [
        "set5 = set3 & set4                                                               # Intersección de conjuntos con el símbolo \"&\"\n",
        "set5"
      ],
      "metadata": {
        "colab": {
          "base_uri": "https://localhost:8080/"
        },
        "id": "Px15P4O_pA_k",
        "outputId": "84feed0c-7237-4969-ea10-d617619bdc40"
      },
      "execution_count": null,
      "outputs": [
        {
          "output_type": "execute_result",
          "data": {
            "text/plain": [
              "{'b', 'd'}"
            ]
          },
          "metadata": {},
          "execution_count": 59
        }
      ]
    },
    {
      "cell_type": "code",
      "source": [
        "set3.union(set4)                                                                 # Unión de conjuntos sin repetición"
      ],
      "metadata": {
        "colab": {
          "base_uri": "https://localhost:8080/"
        },
        "id": "gTwf2HxGpQVW",
        "outputId": "4a594419-0c02-4b2f-8fd8-db7e6519ea28"
      },
      "execution_count": null,
      "outputs": [
        {
          "output_type": "execute_result",
          "data": {
            "text/plain": [
              "{'a', 'b', 'c', 'd', 'e'}"
            ]
          },
          "metadata": {},
          "execution_count": 60
        }
      ]
    },
    {
      "cell_type": "markdown",
      "source": [
        "# Diccionarios"
      ],
      "metadata": {
        "id": "-EPNcm8CUrw1"
      }
    },
    {
      "cell_type": "code",
      "source": [
        "album_dict1 = {\"Thriller\":1982, \"Black in Black\":1980, \"The Dark Side of the Moon\":1973, \"The Bodyguard\":1992, \"Bat Out of Hell\":1977, \"Their Greatest...\":1976, \"Saturday Night Fever\":1977, \"Rumours\":1977}\n",
        "album_dict1"
      ],
      "metadata": {
        "colab": {
          "base_uri": "https://localhost:8080/"
        },
        "id": "E4GUaZZto7Ug",
        "outputId": "32a3d1b8-6b97-4218-afd2-dac15ce9e128"
      },
      "execution_count": null,
      "outputs": [
        {
          "output_type": "execute_result",
          "data": {
            "text/plain": [
              "{'Thriller': 1982,\n",
              " 'Black in Black': 1980,\n",
              " 'The Dark Side of the Moon': 1973,\n",
              " 'The Bodyguard': 1992,\n",
              " 'Bat Out of Hell': 1977,\n",
              " 'Their Greatest...': 1976,\n",
              " 'Saturday Night Fever': 1977,\n",
              " 'Rumours': 1977}"
            ]
          },
          "metadata": {},
          "execution_count": 61
        }
      ]
    },
    {
      "cell_type": "code",
      "source": [
        "album_dict1.keys()                                                               # Mostrar las claves o llaves del diccionario"
      ],
      "metadata": {
        "colab": {
          "base_uri": "https://localhost:8080/"
        },
        "id": "RumDHwJ1rmGE",
        "outputId": "0bb87f66-a843-4963-c8e9-b6d8ed2868c7"
      },
      "execution_count": null,
      "outputs": [
        {
          "output_type": "execute_result",
          "data": {
            "text/plain": [
              "dict_keys(['Thriller', 'Black in Black', 'The Dark Side of the Moon', 'The Bodyguard', 'Bat Out of Hell', 'Their Greatest...', 'Saturday Night Fever', 'Rumours'])"
            ]
          },
          "metadata": {},
          "execution_count": 62
        }
      ]
    },
    {
      "cell_type": "code",
      "source": [
        "album_dict1.values()                                                             # Mostrar valores del diccionario"
      ],
      "metadata": {
        "colab": {
          "base_uri": "https://localhost:8080/"
        },
        "id": "VFeAuKAhr0UY",
        "outputId": "0f28c9e5-0bf4-4392-f396-9d0b5b6c723c"
      },
      "execution_count": null,
      "outputs": [
        {
          "output_type": "execute_result",
          "data": {
            "text/plain": [
              "dict_values([1982, 1980, 1973, 1992, 1977, 1976, 1977, 1977])"
            ]
          },
          "metadata": {},
          "execution_count": 63
        }
      ]
    },
    {
      "cell_type": "code",
      "source": [
        "album_dict1[\"Thriller\"]                                                          # Consultar un elemento del diccionario"
      ],
      "metadata": {
        "colab": {
          "base_uri": "https://localhost:8080/"
        },
        "id": "3ZB_cvo4sDKE",
        "outputId": "5ab896b6-da1a-4188-9821-c9b2265ead32"
      },
      "execution_count": null,
      "outputs": [
        {
          "output_type": "execute_result",
          "data": {
            "text/plain": [
              "1982"
            ]
          },
          "metadata": {},
          "execution_count": 64
        }
      ]
    },
    {
      "cell_type": "markdown",
      "source": [
        "# Operadores básicos"
      ],
      "metadata": {
        "id": "zYaDkL-qUsI0"
      }
    },
    {
      "cell_type": "code",
      "source": [
        "a = 6                                                                            # Asignar valor a variable\n",
        "a"
      ],
      "metadata": {
        "colab": {
          "base_uri": "https://localhost:8080/"
        },
        "id": "97cH-RdxsouM",
        "outputId": "f1114525-bd82-4ce3-fcb5-f96340084987"
      },
      "execution_count": null,
      "outputs": [
        {
          "output_type": "execute_result",
          "data": {
            "text/plain": [
              "6"
            ]
          },
          "metadata": {},
          "execution_count": 65
        }
      ]
    },
    {
      "cell_type": "code",
      "source": [
        "a == 7                                                                           # Operadores condicionales \"=, >, <, >=, <=\"\n"
      ],
      "metadata": {
        "colab": {
          "base_uri": "https://localhost:8080/"
        },
        "id": "KCt08FgEs6DM",
        "outputId": "2e2edfab-ac69-4af0-c999-084839d2c733"
      },
      "execution_count": null,
      "outputs": [
        {
          "output_type": "execute_result",
          "data": {
            "text/plain": [
              "False"
            ]
          },
          "metadata": {},
          "execution_count": 66
        }
      ]
    },
    {
      "cell_type": "code",
      "source": [
        "i = 9\n",
        "i > 5"
      ],
      "metadata": {
        "colab": {
          "base_uri": "https://localhost:8080/"
        },
        "id": "gcvQSSfJs5zX",
        "outputId": "e8d0b895-554e-446a-a338-adf3d1095747"
      },
      "execution_count": null,
      "outputs": [
        {
          "output_type": "execute_result",
          "data": {
            "text/plain": [
              "True"
            ]
          },
          "metadata": {},
          "execution_count": 67
        }
      ]
    },
    {
      "cell_type": "code",
      "source": [
        "i >= 9"
      ],
      "metadata": {
        "colab": {
          "base_uri": "https://localhost:8080/"
        },
        "id": "flbg4iiltXGc",
        "outputId": "b2ae2aa2-464e-405f-e850-6372ed174290"
      },
      "execution_count": null,
      "outputs": [
        {
          "output_type": "execute_result",
          "data": {
            "text/plain": [
              "True"
            ]
          },
          "metadata": {},
          "execution_count": 68
        }
      ]
    },
    {
      "cell_type": "code",
      "source": [
        "i!= 0"
      ],
      "metadata": {
        "colab": {
          "base_uri": "https://localhost:8080/"
        },
        "id": "nFNhUqdBs5qT",
        "outputId": "1736f251-31a4-4c9b-a306-21b424a4da1a"
      },
      "execution_count": null,
      "outputs": [
        {
          "output_type": "execute_result",
          "data": {
            "text/plain": [
              "True"
            ]
          },
          "metadata": {},
          "execution_count": 69
        }
      ]
    },
    {
      "cell_type": "code",
      "source": [
        "\"Archivo\" == \"Hola\""
      ],
      "metadata": {
        "colab": {
          "base_uri": "https://localhost:8080/"
        },
        "id": "gC-SMnyms5gY",
        "outputId": "5459e6b8-265f-487d-94ee-d33f1c8c5367"
      },
      "execution_count": null,
      "outputs": [
        {
          "output_type": "execute_result",
          "data": {
            "text/plain": [
              "False"
            ]
          },
          "metadata": {},
          "execution_count": 70
        }
      ]
    },
    {
      "cell_type": "code",
      "source": [
        "\"Archivo\" != \"Hola\""
      ],
      "metadata": {
        "colab": {
          "base_uri": "https://localhost:8080/"
        },
        "id": "GUDLK_kds5Xc",
        "outputId": "5d0975d8-c050-4147-88a1-8b9a8bca9029"
      },
      "execution_count": null,
      "outputs": [
        {
          "output_type": "execute_result",
          "data": {
            "text/plain": [
              "True"
            ]
          },
          "metadata": {},
          "execution_count": 71
        }
      ]
    },
    {
      "cell_type": "code",
      "source": [
        "edad = 15                                                                        # Estructura para el \"if - else\"\n",
        "if edad > 18 :\n",
        "              print(\"PUEDES INGRESAR\")\n",
        "else:\n",
        "              print(\"NECESITAS SER MAYOR DE EDAD\")"
      ],
      "metadata": {
        "colab": {
          "base_uri": "https://localhost:8080/"
        },
        "id": "TdATwYHos5OL",
        "outputId": "7989a588-ec02-45b0-ea0b-e9bdfa6268b2"
      },
      "execution_count": null,
      "outputs": [
        {
          "output_type": "stream",
          "name": "stdout",
          "text": [
            "NECESITAS SER MAYOR DE EDAD\n"
          ]
        }
      ]
    },
    {
      "cell_type": "code",
      "source": [
        "edad = 100\n",
        "if edad > 18:\n",
        "             print(\"ERES MAYOR DE EDAD\")\n",
        "elif edad == 24:\n",
        "             print(\"VIVES TU ÚLTIMO AÑO FACTORIAL\")\n",
        "else:\n",
        "             print(\"ERES JOVEN\")"
      ],
      "metadata": {
        "colab": {
          "base_uri": "https://localhost:8080/"
        },
        "id": "4qpLH27rs488",
        "outputId": "4e72cfb3-655a-4aa1-f4cf-99f58ed1846c"
      },
      "execution_count": null,
      "outputs": [
        {
          "output_type": "stream",
          "name": "stdout",
          "text": [
            "ERES MAYOR DE EDAD\n"
          ]
        }
      ]
    },
    {
      "cell_type": "code",
      "source": [
        "not(True)                                                                        # Negación"
      ],
      "metadata": {
        "colab": {
          "base_uri": "https://localhost:8080/"
        },
        "id": "o1EIugETwWVd",
        "outputId": "e9ac231c-d136-45d3-ea26-fde3f3ec95f5"
      },
      "execution_count": null,
      "outputs": [
        {
          "output_type": "execute_result",
          "data": {
            "text/plain": [
              "False"
            ]
          },
          "metadata": {},
          "execution_count": 82
        }
      ]
    },
    {
      "cell_type": "code",
      "source": [
        "True or False                                                                    # Valores de verdad"
      ],
      "metadata": {
        "colab": {
          "base_uri": "https://localhost:8080/"
        },
        "id": "yOdr61fGwjIr",
        "outputId": "1c0c6a74-8d9e-40c4-a012-d61a6c631c51"
      },
      "execution_count": null,
      "outputs": [
        {
          "output_type": "execute_result",
          "data": {
            "text/plain": [
              "True"
            ]
          },
          "metadata": {},
          "execution_count": 83
        }
      ]
    },
    {
      "cell_type": "code",
      "source": [
        "edad = 20                                                                        # Utilizar el \"or\"\n",
        "\n",
        "if edad > 18 or edad < 30:\n",
        "                          print(\"Eres joven\")\n",
        "else:\n",
        "                          print(\"Eres muy joven o un adulto\")\n"
      ],
      "metadata": {
        "colab": {
          "base_uri": "https://localhost:8080/"
        },
        "id": "-RiPJ3Krw3GC",
        "outputId": "3908d172-d141-4d75-f192-575091d5956c"
      },
      "execution_count": null,
      "outputs": [
        {
          "output_type": "stream",
          "name": "stdout",
          "text": [
            "Eres joven\n"
          ]
        }
      ]
    },
    {
      "cell_type": "markdown",
      "source": [
        "**CICLO FOR**"
      ],
      "metadata": {
        "id": "HMYpui2Hxn3P"
      }
    },
    {
      "cell_type": "code",
      "source": [
        "colores = [\"rojo\", \"amarillo\", \"verde\", \"morado\", \"azul\"]\n",
        "colores"
      ],
      "metadata": {
        "colab": {
          "base_uri": "https://localhost:8080/"
        },
        "id": "gT9sm2dCx8Wq",
        "outputId": "1b2cc95a-869c-44be-87cd-4e48c4ce4643"
      },
      "execution_count": null,
      "outputs": [
        {
          "output_type": "execute_result",
          "data": {
            "text/plain": [
              "['rojo', 'amarillo', 'verde', 'morado', 'azul']"
            ]
          },
          "metadata": {},
          "execution_count": 91
        }
      ]
    },
    {
      "cell_type": "code",
      "source": [
        "for i in  range(3,5):                                                            # Estructura para el ciclo for\n",
        "                     colores[i] = \"negro\"\n",
        "\n",
        "colores"
      ],
      "metadata": {
        "colab": {
          "base_uri": "https://localhost:8080/"
        },
        "id": "nFqPYPIcxqWy",
        "outputId": "785d77f4-25d8-4552-bb91-af3aab45a359"
      },
      "execution_count": null,
      "outputs": [
        {
          "output_type": "execute_result",
          "data": {
            "text/plain": [
              "['rojo', 'amarillo', 'verde', 'negro', 'negro']"
            ]
          },
          "metadata": {},
          "execution_count": 89
        }
      ]
    },
    {
      "cell_type": "code",
      "source": [
        "for color in colores:\n",
        "                     print(color)"
      ],
      "metadata": {
        "colab": {
          "base_uri": "https://localhost:8080/"
        },
        "id": "9wXeyWCgyi-n",
        "outputId": "cdc7dfb1-3b65-4965-c327-c84e592d4309"
      },
      "execution_count": null,
      "outputs": [
        {
          "output_type": "stream",
          "name": "stdout",
          "text": [
            "rojo\n",
            "amarillo\n",
            "verde\n",
            "negro\n",
            "negro\n"
          ]
        }
      ]
    },
    {
      "cell_type": "markdown",
      "source": [
        "**CICLO WHILE**"
      ],
      "metadata": {
        "id": "NeFW3bNszFIV"
      }
    },
    {
      "cell_type": "code",
      "source": [
        "colores = [\"rojo\", \"amarillo\", \"verde\", \"morado\", \"azul\", \"gris\"]\n",
        "colores"
      ],
      "metadata": {
        "colab": {
          "base_uri": "https://localhost:8080/"
        },
        "id": "GhwMIm5-y-jS",
        "outputId": "26ed2a7b-4cda-4938-df53-369d6f26efac"
      },
      "execution_count": null,
      "outputs": [
        {
          "output_type": "execute_result",
          "data": {
            "text/plain": [
              "['rojo', 'amarillo', 'verde', 'morado', 'azul', 'gris']"
            ]
          },
          "metadata": {},
          "execution_count": 93
        }
      ]
    },
    {
      "cell_type": "code",
      "source": [
        "i = 0                                                                            # Estructura del ciclo \"While\"\n",
        "\n",
        "while(colores[i]!=\"morado\"):\n",
        "                            print(colores[i])\n",
        "                            i+=1"
      ],
      "metadata": {
        "colab": {
          "base_uri": "https://localhost:8080/"
        },
        "id": "DLgDVaoKzSF1",
        "outputId": "51cd5d70-42cb-4a95-a0b2-106b9ecc3a6d"
      },
      "execution_count": null,
      "outputs": [
        {
          "output_type": "stream",
          "name": "stdout",
          "text": [
            "rojo\n",
            "amarillo\n",
            "verde\n"
          ]
        }
      ]
    },
    {
      "cell_type": "markdown",
      "source": [
        "# FUNCIONES"
      ],
      "metadata": {
        "id": "9MEIyk8Lsq_M"
      }
    },
    {
      "cell_type": "code",
      "source": [
        "cadena = [1, 6, 8, 5, 10, 7, 4, 3]\n"
      ],
      "metadata": {
        "id": "Nh_djT8400ZD"
      },
      "execution_count": null,
      "outputs": []
    },
    {
      "cell_type": "code",
      "source": [
        "len(cadena)                                                                      # Tamaño de la cadena"
      ],
      "metadata": {
        "colab": {
          "base_uri": "https://localhost:8080/"
        },
        "id": "65D8F_Y60TJJ",
        "outputId": "d8933b9c-4028-4289-c125-b5f397301010"
      },
      "execution_count": null,
      "outputs": [
        {
          "output_type": "execute_result",
          "data": {
            "text/plain": [
              "8"
            ]
          },
          "metadata": {},
          "execution_count": 97
        }
      ]
    },
    {
      "cell_type": "code",
      "source": [
        "sum(cadena)                                                                      # Suma los elementos que componen a la cadena"
      ],
      "metadata": {
        "colab": {
          "base_uri": "https://localhost:8080/"
        },
        "id": "68V3J71o1C_7",
        "outputId": "6fbc956b-21b8-4b6a-e76c-6ffbd53efa6a"
      },
      "execution_count": null,
      "outputs": [
        {
          "output_type": "execute_result",
          "data": {
            "text/plain": [
              "44"
            ]
          },
          "metadata": {},
          "execution_count": 98
        }
      ]
    },
    {
      "cell_type": "code",
      "source": [
        "sorted(cadena)                                                                   # Ordena los elementos"
      ],
      "metadata": {
        "colab": {
          "base_uri": "https://localhost:8080/"
        },
        "id": "WMMRvSqv1K6r",
        "outputId": "93bc433a-8823-44e7-be8b-659f06809db2"
      },
      "execution_count": null,
      "outputs": [
        {
          "output_type": "execute_result",
          "data": {
            "text/plain": [
              "[1, 3, 4, 5, 6, 7, 8, 10]"
            ]
          },
          "metadata": {},
          "execution_count": 99
        }
      ]
    },
    {
      "cell_type": "markdown",
      "source": [
        "**CREACIÓN DE FUNCIONES**"
      ],
      "metadata": {
        "id": "EQzYC9dh1wnA"
      }
    },
    {
      "cell_type": "markdown",
      "source": [
        "**1. Función que regresa el doble de un número**"
      ],
      "metadata": {
        "id": "AzUY1B2V15xz"
      }
    },
    {
      "cell_type": "code",
      "source": [
        "def doble(x):                                                                    # Función para calcular el doble de un número\n",
        "             y = 2*x\n",
        "             return y"
      ],
      "metadata": {
        "id": "juJsMmHp1ShD"
      },
      "execution_count": null,
      "outputs": []
    },
    {
      "cell_type": "code",
      "source": [
        "doble(5)"
      ],
      "metadata": {
        "colab": {
          "base_uri": "https://localhost:8080/"
        },
        "id": "ujFbDJhUAQzJ",
        "outputId": "524b7ba8-dd2b-42db-9fe0-a4f94b3a5ba5"
      },
      "execution_count": null,
      "outputs": [
        {
          "output_type": "execute_result",
          "data": {
            "text/plain": [
              "10"
            ]
          },
          "metadata": {},
          "execution_count": 128
        }
      ]
    },
    {
      "cell_type": "markdown",
      "source": [
        "**2. Crear una función que tome como valores de entrada los coeficientes de una ecuación cuadrática y devuelva las raíces de dicha función.**"
      ],
      "metadata": {
        "id": "b3NZB3fj2FSC"
      }
    },
    {
      "cell_type": "code",
      "source": [
        "import math\n",
        "from math import sqrt, exp"
      ],
      "metadata": {
        "id": "4CW4w8ES3adY"
      },
      "execution_count": null,
      "outputs": []
    },
    {
      "cell_type": "code",
      "source": [
        "def raices_2(a,b,c):\n",
        "                    discriminante = (b*b) - (4*a*c)                                              # Obtenemos el valor del discriminante\n",
        "\n",
        "                    if discriminante >= 0:                                                       # Caso para raíces reales\n",
        "                                           r1 = (-1*b + sqrt(discriminante))/(2*a)\n",
        "                                           r2 = (-1*b - sqrt(discriminante))/(2*a)\n",
        "                                           print(\"Las raíces son reales r1=\", r1, \" y r2=\", r2)  # Imprimimos raíces reales\n",
        "                    else:                                                                        # Caso para raíces complejas\n",
        "                                           rel = (-1*b)/(2*a)\n",
        "                                           com = sqrt(-1*discriminante)/(2*a)\n",
        "                                           print(\"Las raíces son complejas r1=\", rel, \"+\", com,\"i y r2=\", rel,\"-\",com, \"i\")  # Imprimimos raíces complejas\n"
      ],
      "metadata": {
        "id": "NW-4GqRg2TjI"
      },
      "execution_count": null,
      "outputs": []
    },
    {
      "cell_type": "code",
      "source": [
        "raices_2(3,2,-8)                                                                 # Raíces reales diferentes"
      ],
      "metadata": {
        "colab": {
          "base_uri": "https://localhost:8080/"
        },
        "id": "iS_dbpTE43Ad",
        "outputId": "9e328a64-65ba-40a5-e2ac-56c84255328a"
      },
      "execution_count": null,
      "outputs": [
        {
          "output_type": "stream",
          "name": "stdout",
          "text": [
            "Las raíces son reales r1= 1.3333333333333333  y r2= -2.0\n"
          ]
        }
      ]
    },
    {
      "cell_type": "code",
      "source": [
        "raices_2(1,-10,25)                                                               # Raíces reales iguales"
      ],
      "metadata": {
        "colab": {
          "base_uri": "https://localhost:8080/"
        },
        "id": "zVZAXj3C7BEN",
        "outputId": "5e8a8579-40d8-4b60-9ced-c5ae36856c00"
      },
      "execution_count": null,
      "outputs": [
        {
          "output_type": "stream",
          "name": "stdout",
          "text": [
            "Las raíces son reales r1= 5.0  y r2= 5.0\n"
          ]
        }
      ]
    },
    {
      "cell_type": "code",
      "source": [
        "raices_2(1,0,4)                                                                  # Raíces complejas"
      ],
      "metadata": {
        "colab": {
          "base_uri": "https://localhost:8080/"
        },
        "id": "K7RL1p4R5FBx",
        "outputId": "5716fb67-ee77-4c64-b1a3-4bd77dd13c7a"
      },
      "execution_count": null,
      "outputs": [
        {
          "output_type": "stream",
          "name": "stdout",
          "text": [
            "Las raíces son complejas r1= 0.0 + 2.0 i y r2= 0.0 - 2.0 i\n"
          ]
        }
      ]
    },
    {
      "cell_type": "markdown",
      "source": [
        "**SOLUCIÓN DEL MAESTRO**"
      ],
      "metadata": {
        "id": "7aJ-yU9C-I48"
      }
    },
    {
      "cell_type": "code",
      "source": [
        "def cuadratica(a,b,c):\n",
        "  if b*b - 4*a*c >=0:\n",
        "                         x1 = (-b-math.sqrt(b*b -4*a*c))/(2*a)\n",
        "                         x2 = (-b+math.sqrt(b*b -4*a*c))/(2*a)\n",
        "                         return x1,x2\n",
        "  else:\n",
        "                         print(\"No hay raíces reales\")"
      ],
      "metadata": {
        "id": "tkr9xrGa-OW4"
      },
      "execution_count": null,
      "outputs": []
    },
    {
      "cell_type": "code",
      "source": [
        "cuadratica(1,1,1)"
      ],
      "metadata": {
        "colab": {
          "base_uri": "https://localhost:8080/"
        },
        "id": "bPXCTimB_EHi",
        "outputId": "a6e90231-4188-4007-8ce7-080eef337278"
      },
      "execution_count": null,
      "outputs": [
        {
          "output_type": "stream",
          "name": "stdout",
          "text": [
            "No hay raíces reales\n"
          ]
        }
      ]
    },
    {
      "cell_type": "code",
      "source": [
        "cuadratica(5,7,2)"
      ],
      "metadata": {
        "colab": {
          "base_uri": "https://localhost:8080/"
        },
        "id": "yW1_OkqKBovL",
        "outputId": "aa225190-cd69-4b5b-e909-e9c4eb94861e"
      },
      "execution_count": null,
      "outputs": [
        {
          "output_type": "execute_result",
          "data": {
            "text/plain": [
              "(-1.0, -0.4)"
            ]
          },
          "metadata": {},
          "execution_count": 131
        }
      ]
    },
    {
      "cell_type": "markdown",
      "source": [
        "**3. Función para incrementar en dos a un número**"
      ],
      "metadata": {
        "id": "qZ3jhMAp9OMP"
      }
    },
    {
      "cell_type": "code",
      "source": [
        "def sumados(a):\n",
        "               b = a + 2\n",
        "               print(f'{a} + 2 = {b}')\n",
        "               return b"
      ],
      "metadata": {
        "id": "1p967zfz9Xmh"
      },
      "execution_count": null,
      "outputs": []
    },
    {
      "cell_type": "code",
      "source": [
        "sumados(5)"
      ],
      "metadata": {
        "colab": {
          "base_uri": "https://localhost:8080/"
        },
        "id": "3centDP79-Gk",
        "outputId": "5ea6489b-343e-40f6-c253-1041a10018a7"
      },
      "execution_count": null,
      "outputs": [
        {
          "output_type": "stream",
          "name": "stdout",
          "text": [
            "5 + 2 = 7\n"
          ]
        },
        {
          "output_type": "execute_result",
          "data": {
            "text/plain": [
              "7"
            ]
          },
          "metadata": {},
          "execution_count": 121
        }
      ]
    },
    {
      "cell_type": "markdown",
      "source": [
        "**4. Funciones vacías**"
      ],
      "metadata": {
        "id": "5AIfRmVPCJwK"
      }
    },
    {
      "cell_type": "code",
      "source": [
        "def IV():                                                                        # Auxiliarse para ahorrar espacio y/o tiempo de ejecución\n",
        "          print(\"Ivan Gonzalez\")"
      ],
      "metadata": {
        "id": "vEmf4cfsCGBU"
      },
      "execution_count": null,
      "outputs": []
    },
    {
      "cell_type": "code",
      "source": [
        "IV()"
      ],
      "metadata": {
        "colab": {
          "base_uri": "https://localhost:8080/"
        },
        "id": "PtJMI-wDCW6X",
        "outputId": "6e3e11e4-2205-492c-d82f-8b0075f590f0"
      },
      "execution_count": null,
      "outputs": [
        {
          "output_type": "stream",
          "name": "stdout",
          "text": [
            "Ivan Gonzalez\n"
          ]
        }
      ]
    },
    {
      "cell_type": "markdown",
      "source": [
        "**5. Función Lambda**"
      ],
      "metadata": {
        "id": "ngllPsk1C_pJ"
      }
    },
    {
      "cell_type": "markdown",
      "source": [
        "Sintaxis función Lambda\n"
      ],
      "metadata": {
        "id": "_krQYeYyDa1p"
      }
    },
    {
      "cell_type": "markdown",
      "source": [
        "**lambda** *argumentos* : *expresión*"
      ],
      "metadata": {
        "id": "gHRaxvJzD0OS"
      }
    },
    {
      "cell_type": "code",
      "source": [
        "cubo = lambda x : x**3                                                           # Elevar al cubo un número mediante la función lambda"
      ],
      "metadata": {
        "id": "QMfFh6AdDDiM"
      },
      "execution_count": null,
      "outputs": []
    },
    {
      "cell_type": "code",
      "source": [
        "cubo(3)"
      ],
      "metadata": {
        "colab": {
          "base_uri": "https://localhost:8080/"
        },
        "id": "BPARRXrSEZYL",
        "outputId": "739694e4-1dc4-40b7-e148-646a9b7a7f2e"
      },
      "execution_count": null,
      "outputs": [
        {
          "output_type": "execute_result",
          "data": {
            "text/plain": [
              "27"
            ]
          },
          "metadata": {},
          "execution_count": 135
        }
      ]
    },
    {
      "cell_type": "code",
      "source": [
        "def cubotradicional(a):                                                          # Función elevar al cubo por el método tradicional\n",
        "                        x = a**3\n",
        "                        return x"
      ],
      "metadata": {
        "id": "ZQGeL6ogEo3_"
      },
      "execution_count": null,
      "outputs": []
    },
    {
      "cell_type": "code",
      "source": [
        "cubotradicional(2)"
      ],
      "metadata": {
        "colab": {
          "base_uri": "https://localhost:8080/"
        },
        "id": "QxrKdwRjFDS0",
        "outputId": "162ff080-9287-40a4-85f1-87be16454190"
      },
      "execution_count": null,
      "outputs": [
        {
          "output_type": "execute_result",
          "data": {
            "text/plain": [
              "8"
            ]
          },
          "metadata": {},
          "execution_count": 137
        }
      ]
    },
    {
      "cell_type": "code",
      "source": [
        "lambda_funct = lambda x: True if x**2 >= 10 else False                           # Criterio de comparación"
      ],
      "metadata": {
        "id": "3jY-zhBeFOHx"
      },
      "execution_count": null,
      "outputs": []
    },
    {
      "cell_type": "code",
      "source": [
        "lambda_funct(1)"
      ],
      "metadata": {
        "colab": {
          "base_uri": "https://localhost:8080/"
        },
        "id": "knWPl-G8FfPZ",
        "outputId": "5cf7d38e-ee1e-4a01-a313-0bb824bf3384"
      },
      "execution_count": null,
      "outputs": [
        {
          "output_type": "execute_result",
          "data": {
            "text/plain": [
              "False"
            ]
          },
          "metadata": {},
          "execution_count": 139
        }
      ]
    }
  ]
}